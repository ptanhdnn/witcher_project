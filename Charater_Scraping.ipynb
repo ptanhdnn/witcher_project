{
 "cells": [
  {
   "cell_type": "code",
   "execution_count": 1,
   "id": "4f22997f-8c19-4c3f-824a-8ca85bf78290",
   "metadata": {},
   "outputs": [
    {
     "name": "stdout",
     "output_type": "stream",
     "text": [
      "done\n"
     ]
    }
   ],
   "source": [
    "import pandas as pd\n",
    "import time\n",
    "from selenium import webdriver\n",
    "#from webdriver_manager.chrome import ChromeDriverManager\n",
    "print(\"done\")"
   ]
  },
  {
   "cell_type": "markdown",
   "id": "73c2e63e-2c53-4750-bbcd-c14fa3eb1b0c",
   "metadata": {},
   "source": [
    "Create Driver"
   ]
  },
  {
   "cell_type": "code",
   "execution_count": 2,
   "id": "bc3e9e9d-4076-491d-9d47-959d4d6b47cf",
   "metadata": {},
   "outputs": [
    {
     "name": "stderr",
     "output_type": "stream",
     "text": [
      "C:\\Users\\Anpha_X542UQ\\AppData\\Local\\Temp\\ipykernel_16600\\1593855252.py:1: DeprecationWarning: executable_path has been deprecated, please pass in a Service object\n",
      "  driver = webdriver.Edge(executable_path = \"./msedgedriver.exe\")\n"
     ]
    }
   ],
   "source": [
    "driver = webdriver.Edge(executable_path = \"./msedgedriver.exe\")"
   ]
  },
  {
   "cell_type": "code",
   "execution_count": 3,
   "id": "9250f84f-87c0-4fe4-8cbf-02c5fd14a4af",
   "metadata": {},
   "outputs": [],
   "source": [
    "base_url = \"https://witcher.fandom.com/wiki/Category:Characters_in_the_stories\"\n",
    "driver.get(base_url)"
   ]
  },
  {
   "cell_type": "code",
   "execution_count": 4,
   "id": "0dc54aae-fa32-4b18-b7d4-c1eee9a0aa69",
   "metadata": {},
   "outputs": [],
   "source": [
    "from selenium.webdriver.common.by import By"
   ]
  },
  {
   "cell_type": "code",
   "execution_count": 5,
   "id": "858f49d4-46a9-4280-8c10-ff2291de74af",
   "metadata": {},
   "outputs": [],
   "source": [
    "time.sleep(3)\n",
    "\n",
    "# Find book\n",
    "book_catagories = driver.find_elements(By.CLASS_NAME, \"category-page__member-link\")"
   ]
  },
  {
   "cell_type": "code",
   "execution_count": 6,
   "id": "0346149f-b4cc-47be-8fbf-ca7177ed9dba",
   "metadata": {},
   "outputs": [
    {
     "data": {
      "text/plain": [
       "[<selenium.webdriver.remote.webelement.WebElement (session=\"5cd0a4c456e10d2ab4bf0932af1e6ae1\", element=\"a5eb5b71-cfcf-4d7d-b3a7-47b7d5ef10f5\")>,\n",
       " <selenium.webdriver.remote.webelement.WebElement (session=\"5cd0a4c456e10d2ab4bf0932af1e6ae1\", element=\"721c47ac-a390-46e4-845d-5d4999fd83cb\")>,\n",
       " <selenium.webdriver.remote.webelement.WebElement (session=\"5cd0a4c456e10d2ab4bf0932af1e6ae1\", element=\"6b0fa662-1679-45ff-bb66-c167f8f672b8\")>,\n",
       " <selenium.webdriver.remote.webelement.WebElement (session=\"5cd0a4c456e10d2ab4bf0932af1e6ae1\", element=\"72e9aa2a-59af-4e0b-aa68-24370e973235\")>,\n",
       " <selenium.webdriver.remote.webelement.WebElement (session=\"5cd0a4c456e10d2ab4bf0932af1e6ae1\", element=\"23b30fad-5bf0-4c16-bd61-43fd17580741\")>,\n",
       " <selenium.webdriver.remote.webelement.WebElement (session=\"5cd0a4c456e10d2ab4bf0932af1e6ae1\", element=\"86b39659-2410-4201-85a0-6501c180bf67\")>,\n",
       " <selenium.webdriver.remote.webelement.WebElement (session=\"5cd0a4c456e10d2ab4bf0932af1e6ae1\", element=\"ffb4f27d-118a-49e6-a5fc-ad6de07330e3\")>,\n",
       " <selenium.webdriver.remote.webelement.WebElement (session=\"5cd0a4c456e10d2ab4bf0932af1e6ae1\", element=\"4ddc7add-b33a-4f85-849b-ea19a2002c28\")>,\n",
       " <selenium.webdriver.remote.webelement.WebElement (session=\"5cd0a4c456e10d2ab4bf0932af1e6ae1\", element=\"e1d5628f-8506-4232-892d-7fc20ae51d9d\")>,\n",
       " <selenium.webdriver.remote.webelement.WebElement (session=\"5cd0a4c456e10d2ab4bf0932af1e6ae1\", element=\"13e24aba-b8e3-4b60-a3e0-91561b78b77d\")>,\n",
       " <selenium.webdriver.remote.webelement.WebElement (session=\"5cd0a4c456e10d2ab4bf0932af1e6ae1\", element=\"bcfd886b-b69b-42fe-9e2f-84ee15d08b1e\")>,\n",
       " <selenium.webdriver.remote.webelement.WebElement (session=\"5cd0a4c456e10d2ab4bf0932af1e6ae1\", element=\"b2fd5d71-d666-4853-b943-778e1727de71\")>]"
      ]
     },
     "execution_count": 6,
     "metadata": {},
     "output_type": "execute_result"
    }
   ],
   "source": [
    "book_catagories"
   ]
  },
  {
   "cell_type": "code",
   "execution_count": 7,
   "id": "24e9278b-a2d3-457f-8492-74013302ad03",
   "metadata": {},
   "outputs": [
    {
     "data": {
      "text/plain": [
       "'Category:Baptism of Fire characters'"
      ]
     },
     "execution_count": 7,
     "metadata": {},
     "output_type": "execute_result"
    }
   ],
   "source": [
    "book_catagories[0].text"
   ]
  },
  {
   "cell_type": "code",
   "execution_count": 8,
   "id": "8f4ee8ba-380d-4d7b-b9d4-a8c2feb32689",
   "metadata": {},
   "outputs": [
    {
     "data": {
      "text/plain": [
       "'https://witcher.fandom.com/wiki/Category:Baptism_of_Fire_characters'"
      ]
     },
     "execution_count": 8,
     "metadata": {},
     "output_type": "execute_result"
    }
   ],
   "source": [
    "book_catagories[0].get_attribute('href')"
   ]
  },
  {
   "cell_type": "code",
   "execution_count": 9,
   "id": "a01e6b11-4e46-493e-843e-73966a30ada0",
   "metadata": {},
   "outputs": [],
   "source": [
    "books = []\n",
    "for category in book_catagories:\n",
    "    book_url = category.get_attribute('href')\n",
    "    book_name = category.text\n",
    "    books.append({'book_name': book_name,'url': book_url})"
   ]
  },
  {
   "cell_type": "code",
   "execution_count": 10,
   "id": "b61ade0e-6909-4625-ad43-88b40988720d",
   "metadata": {},
   "outputs": [
    {
     "data": {
      "text/plain": [
       "[{'book_name': 'Category:Baptism of Fire characters',\n",
       "  'url': 'https://witcher.fandom.com/wiki/Category:Baptism_of_Fire_characters'},\n",
       " {'book_name': 'Category:Blood of Elves characters',\n",
       "  'url': 'https://witcher.fandom.com/wiki/Category:Blood_of_Elves_characters'},\n",
       " {'book_name': \"Godamba Thaess'en\",\n",
       "  'url': 'https://witcher.fandom.com/wiki/Godamba_Thaess%27en'},\n",
       " {'book_name': 'Category:Season of Storms characters',\n",
       "  'url': 'https://witcher.fandom.com/wiki/Category:Season_of_Storms_characters'},\n",
       " {'book_name': 'Category:Something Ends, Something Begins characters',\n",
       "  'url': 'https://witcher.fandom.com/wiki/Category:Something_Ends,_Something_Begins_characters'},\n",
       " {'book_name': 'Category:Sword of Destiny characters',\n",
       "  'url': 'https://witcher.fandom.com/wiki/Category:Sword_of_Destiny_characters'},\n",
       " {'book_name': 'Category:Szpony i kły characters',\n",
       "  'url': 'https://witcher.fandom.com/wiki/Category:Szpony_i_k%C5%82y_characters'},\n",
       " {'book_name': 'Category:Tales from the world of The Witcher characters',\n",
       "  'url': 'https://witcher.fandom.com/wiki/Category:Tales_from_the_world_of_The_Witcher_characters'},\n",
       " {'book_name': 'Category:The Lady of the Lake characters',\n",
       "  'url': 'https://witcher.fandom.com/wiki/Category:The_Lady_of_the_Lake_characters'},\n",
       " {'book_name': 'Category:The Last Wish characters',\n",
       "  'url': 'https://witcher.fandom.com/wiki/Category:The_Last_Wish_characters'},\n",
       " {'book_name': 'Category:The Tower of the Swallow characters',\n",
       "  'url': 'https://witcher.fandom.com/wiki/Category:The_Tower_of_the_Swallow_characters'},\n",
       " {'book_name': 'Category:Time of Contempt characters',\n",
       "  'url': 'https://witcher.fandom.com/wiki/Category:Time_of_Contempt_characters'}]"
      ]
     },
     "execution_count": 10,
     "metadata": {},
     "output_type": "execute_result"
    }
   ],
   "source": [
    "books"
   ]
  },
  {
   "cell_type": "code",
   "execution_count": 11,
   "id": "14b17729-a60c-414d-ab78-96cc9f0c689a",
   "metadata": {},
   "outputs": [],
   "source": [
    "character_lists = []\n",
    "\n",
    "for book in books:\n",
    "    driver.get(book['url'])\n",
    "    character_elems = driver.find_elements(By.CLASS_NAME, \"category-page__member-link\")\n",
    "    \n",
    "    for elem in character_elems:\n",
    "        character_lists.append({'book': book['book_name'],'character': elem.text})"
   ]
  },
  {
   "cell_type": "code",
   "execution_count": 12,
   "id": "c43a13af-7245-4fcc-b09b-4b0416ef8768",
   "metadata": {},
   "outputs": [],
   "source": [
    "character_list = pd.DataFrame(character_lists)"
   ]
  },
  {
   "cell_type": "code",
   "execution_count": 13,
   "id": "1c478a88-e5b5-44f2-b191-1ddd9605f21a",
   "metadata": {},
   "outputs": [
    {
     "data": {
      "text/plain": [
       "<bound method DataFrame.info of                                       book               character\n",
       "0      Category:Baptism of Fire characters                  Adalia\n",
       "1      Category:Baptism of Fire characters                   Adela\n",
       "2      Category:Baptism of Fire characters           Aen Saevherne\n",
       "3      Category:Baptism of Fire characters                Aevenien\n",
       "4      Category:Baptism of Fire characters                  Aglaïs\n",
       "...                                    ...                     ...\n",
       "1270  Category:Time of Contempt characters        Yanna of Murivel\n",
       "1271  Category:Time of Contempt characters           Yarpen Zigrin\n",
       "1272  Category:Time of Contempt characters  Yennefer of Vengerberg\n",
       "1273  Category:Time of Contempt characters         Yiolenta Suarez\n",
       "1274  Category:Time of Contempt characters                   Zyvik\n",
       "\n",
       "[1275 rows x 2 columns]>"
      ]
     },
     "execution_count": 13,
     "metadata": {},
     "output_type": "execute_result"
    }
   ],
   "source": [
    "character_list.info"
   ]
  },
  {
   "cell_type": "code",
   "execution_count": 60,
   "id": "08906399-fe21-43d0-962b-7f66b86bf079",
   "metadata": {},
   "outputs": [],
   "source": [
    "character_list.to_csv(\"charater_list.csv\")"
   ]
  }
 ],
 "metadata": {
  "kernelspec": {
   "display_name": "Python 3.9.12 ('witcher_project': venv)",
   "language": "python",
   "name": "python3"
  },
  "language_info": {
   "codemirror_mode": {
    "name": "ipython",
    "version": 3
   },
   "file_extension": ".py",
   "mimetype": "text/x-python",
   "name": "python",
   "nbconvert_exporter": "python",
   "pygments_lexer": "ipython3",
   "version": "3.9.12"
  },
  "vscode": {
   "interpreter": {
    "hash": "f4f0c5a059e6b1caa13001c6aac242b5098b452e0f8e7f0fc162b6fed6f311c1"
   }
  }
 },
 "nbformat": 4,
 "nbformat_minor": 5
}
